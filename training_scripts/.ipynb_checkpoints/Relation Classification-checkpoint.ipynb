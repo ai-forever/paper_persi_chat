{
 "cells": [
  {
   "cell_type": "markdown",
   "metadata": {},
   "source": [
    "## 1. Dataset construction"
   ]
  },
  {
   "cell_type": "code",
   "execution_count": 1,
   "metadata": {},
   "outputs": [],
   "source": [
    "from convokit import Corpus, download\n",
    "from tqdm import tqdm\n",
    "import pandas as pd\n",
    "import pickle\n",
    "import re\n",
    "from sklearn.model_selection import train_test_split"
   ]
  },
  {
   "cell_type": "code",
   "execution_count": null,
   "metadata": {},
   "outputs": [],
   "source": [
    "corpus = Corpus(filename=download(\"reddit-coarse-discourse-corpus\"))"
   ]
  },
  {
   "cell_type": "code",
   "execution_count": 3,
   "metadata": {},
   "outputs": [],
   "source": [
    "conversation_ids = corpus.get_conversation_ids()"
   ]
  },
  {
   "cell_type": "code",
   "execution_count": 5,
   "metadata": {},
   "outputs": [],
   "source": [
    "utter_df = corpus.get_utterances_dataframe()"
   ]
  },
  {
   "cell_type": "code",
   "execution_count": 9,
   "metadata": {},
   "outputs": [
    {
     "name": "stderr",
     "output_type": "stream",
     "text": [
      "100%|██████████| 9483/9483 [01:32<00:00, 102.60it/s]\n"
     ]
    }
   ],
   "source": [
    "rels2pairs = {'disagreement': [], 'agreement': [], 'other': []}\n",
    "for conv_id in tqdm(conversation_ids):\n",
    "    conv_data = utter_df[utter_df.conversation_id == conv_id][['speaker', 'reply_to', 'meta.majority_type', 'text']]\n",
    "    for row in conv_data.values:\n",
    "        if row[1] is not None and row[1] in conv_data.index:\n",
    "            if row[2] == 'disagreement':\n",
    "                cls = 'disagreement'\n",
    "            elif row[2] == 'appreciation':\n",
    "                cls = 'agreement'\n",
    "            else:\n",
    "                cls = 'other'\n",
    "            rels2pairs[cls].append([conv_data.loc[row[1],:]['text'], row[-1]])"
   ]
  },
  {
   "cell_type": "code",
   "execution_count": 10,
   "metadata": {},
   "outputs": [
    {
     "name": "stdout",
     "output_type": "stream",
     "text": [
      "disagreement 3411\n",
      "agreement 8688\n",
      "other 94038\n"
     ]
    }
   ],
   "source": [
    "for item in rels2pairs:\n",
    "    print(item, len(rels2pairs[item]))"
   ]
  },
  {
   "cell_type": "code",
   "execution_count": 11,
   "metadata": {},
   "outputs": [],
   "source": [
    "with open('data/convokit_disco_3types.pkl', 'wb') as f:\n",
    "    pickle.dump(rels2pairs, f)"
   ]
  },
  {
   "cell_type": "code",
   "execution_count": null,
   "metadata": {},
   "outputs": [],
   "source": []
  },
  {
   "cell_type": "code",
   "execution_count": 12,
   "metadata": {},
   "outputs": [],
   "source": [
    "import sys\n",
    "sys.path.insert(0, 'iac_v1.1/code')"
   ]
  },
  {
   "cell_type": "code",
   "execution_count": 13,
   "metadata": {},
   "outputs": [],
   "source": [
    "from tqdm import tqdm"
   ]
  },
  {
   "cell_type": "code",
   "execution_count": 14,
   "metadata": {},
   "outputs": [],
   "source": [
    "from grab_data.discussion import Dataset, results_root_dir, data_root_dir"
   ]
  },
  {
   "cell_type": "code",
   "execution_count": 15,
   "metadata": {},
   "outputs": [
    {
     "name": "stdout",
     "output_type": "stream",
     "text": [
      "/home/alchernyavskiy/disagreement_generation/iac_v1.1/data/fourforums/annotations/topic.csv\n",
      "/home/alchernyavskiy/disagreement_generation/iac_v1.1/data/fourforums/annotations/mechanical_turk/qr_meta.csv\n",
      "/home/alchernyavskiy/disagreement_generation/iac_v1.1/data/fourforums/annotations/mechanical_turk/qr_worker_answers_task1.csv\n",
      "/home/alchernyavskiy/disagreement_generation/iac_v1.1/data/fourforums/annotations/mechanical_turk/qr_averages.csv\n",
      "/home/alchernyavskiy/disagreement_generation/iac_v1.1/data/fourforums/annotations/mechanical_turk/qr_worker_answers_task2.csv\n",
      "/home/alchernyavskiy/disagreement_generation/iac_v1.1/data/fourforums/annotations/mechanical_turk/qr_resample.csv\n"
     ]
    }
   ],
   "source": [
    "dataset = Dataset(name='fourforums', annotation_list=['topic','mechanical_turk'])"
   ]
  },
  {
   "cell_type": "code",
   "execution_count": 16,
   "metadata": {},
   "outputs": [
    {
     "name": "stderr",
     "output_type": "stream",
     "text": [
      "83it [00:00, 317.96it/s]"
     ]
    },
    {
     "name": "stdout",
     "output_type": "stream",
     "text": [
      "Finished 1 of 1806. Time remaining: 0:00:22. Time taken: 0:00:01\n"
     ]
    },
    {
     "name": "stderr",
     "output_type": "stream",
     "text": [
      "1806it [00:03, 540.74it/s]"
     ]
    },
    {
     "name": "stdout",
     "output_type": "stream",
     "text": [
      "Finished 1806 of 1806. Time remaining: 0:00:00. Time taken: 0:00:04\n"
     ]
    },
    {
     "name": "stderr",
     "output_type": "stream",
     "text": [
      "\n"
     ]
    }
   ],
   "source": [
    "data = []\n",
    "for discussion in tqdm(dataset.get_discussions(annotation_label='mechanical_turk')):\n",
    "    el = discussion.annotations['mechanical_turk']\n",
    "    for key in el['qr_meta']:\n",
    "        data.append([el['qr_meta'][key]['quote'], el['qr_meta'][key]['response'], el['qr_averages'][key]['agreement']])"
   ]
  },
  {
   "cell_type": "code",
   "execution_count": 19,
   "metadata": {},
   "outputs": [],
   "source": [
    "rels2pairs = {'disagreement': [el for el in data if el[-1] is not None and el[-1] <= -3],\n",
    "              'agreement': [el for el in data if el[-1] is not None and el[-1] >= 1],\n",
    "              'other': [el for el in data if el[-1] is not None and el[-1] in [-1, 0]]\n",
    "            }"
   ]
  },
  {
   "cell_type": "code",
   "execution_count": 20,
   "metadata": {},
   "outputs": [
    {
     "name": "stdout",
     "output_type": "stream",
     "text": [
      "disagreement 1599\n",
      "agreement 1113\n",
      "other 703\n"
     ]
    }
   ],
   "source": [
    "for item in rels2pairs:\n",
    "    print(item, len(rels2pairs[item]))"
   ]
  },
  {
   "cell_type": "code",
   "execution_count": 21,
   "metadata": {},
   "outputs": [],
   "source": [
    "with open('data/iac_disco_3types.pkl', 'wb') as f:\n",
    "    pickle.dump(rels2pairs, f)"
   ]
  },
  {
   "cell_type": "code",
   "execution_count": null,
   "metadata": {},
   "outputs": [],
   "source": []
  },
  {
   "cell_type": "code",
   "execution_count": null,
   "metadata": {},
   "outputs": [],
   "source": []
  },
  {
   "cell_type": "code",
   "execution_count": null,
   "metadata": {},
   "outputs": [],
   "source": []
  },
  {
   "cell_type": "markdown",
   "metadata": {},
   "source": [
    "## 2. Classification"
   ]
  },
  {
   "cell_type": "code",
   "execution_count": 1,
   "metadata": {},
   "outputs": [],
   "source": [
    "import math\n",
    "import pickle\n",
    "import numpy as np\n",
    "import random\n",
    "import torch\n",
    "from tqdm import tqdm\n",
    "from sklearn.model_selection import train_test_split\n",
    "from scipy.special import softmax\n",
    "from torch.utils.data import DataLoader\n",
    "\n",
    "from sentence_transformers import SentenceTransformer, models, losses, InputExample, SentencesDataset\n",
    "from sentence_transformers.util import batch_to_device"
   ]
  },
  {
   "cell_type": "code",
   "execution_count": 2,
   "metadata": {},
   "outputs": [],
   "source": [
    "with open('data/iac_disco_3types.pkl', 'rb') as f:\n",
    "    rels2pairs_iac = pickle.load(f)\n",
    "    \n",
    "with open('data/convokit_disco_3types.pkl', 'rb') as f:\n",
    "    rels2pairs_convokit = pickle.load(f)"
   ]
  },
  {
   "cell_type": "code",
   "execution_count": 3,
   "metadata": {},
   "outputs": [],
   "source": [
    "dataset_pairs_train = []\n",
    "dataset_pairs_test = []\n",
    "label2id = {'disagreement': 0, 'agreement': 1, 'other': 2}\n",
    "\n",
    "for data in [rels2pairs_iac, rels2pairs_convokit]:\n",
    "    for item in data:\n",
    "        text_pairs = random.sample(data[item], 15000) if len(data[item]) > 15000 else data[item]\n",
    "        train_pairs, test_pairs = train_test_split(text_pairs, test_size=0.2, random_state=5757)\n",
    "        \n",
    "        for pair in train_pairs:\n",
    "            if pair[0] is not None and pair[1] is not None and len(pair[0]) > 5 and len(pair[1]) > 5:\n",
    "                dataset_pairs_train.append([pair[0], pair[1], label2id[item]])\n",
    "                \n",
    "        for pair in test_pairs:\n",
    "            if pair[0] is not None and pair[1] is not None and len(pair[0]) > 5 and len(pair[1]) > 5:\n",
    "                dataset_pairs_test.append([pair[0], pair[1], label2id[item]])"
   ]
  },
  {
   "cell_type": "code",
   "execution_count": 4,
   "metadata": {},
   "outputs": [
    {
     "data": {
      "text/plain": [
       "['Why do Americans want so many guns?\\n \\n emoticon_xkill \\n \\n What are you most afraid of?',\n",
       " 'One has to wonder why gun haters always ask this quesion. \\n \\n Has this question ever been asked of people that read books? It is interesting how people that want to ban the right to bear arms never apply their logic to the rights they like. The gun haters clearly like the 1st amend. \\n \\n The gun haters use their 1st amend right to attack the right to bear arms. When racist use their 1st amend right to attack other peoples right it is called hate speech. So why is it that gun haters demanding the banning of the right to bear arms is not considered hate speech? After all gun haters are just like the other hate groups. All they do is attack the right to bear arms. Not once has a gun hater ever demand that dangerous criminals be punished.',\n",
       " 0]"
      ]
     },
     "execution_count": 4,
     "metadata": {},
     "output_type": "execute_result"
    }
   ],
   "source": [
    "dataset_pairs_train[0]"
   ]
  },
  {
   "cell_type": "code",
   "execution_count": 5,
   "metadata": {},
   "outputs": [
    {
     "data": {
      "text/plain": [
       "22544"
      ]
     },
     "execution_count": 5,
     "metadata": {},
     "output_type": "execute_result"
    }
   ],
   "source": [
    "len(dataset_pairs_train)"
   ]
  },
  {
   "cell_type": "code",
   "execution_count": 6,
   "metadata": {},
   "outputs": [
    {
     "data": {
      "text/plain": [
       "(3934, 7178, 11432)"
      ]
     },
     "execution_count": 6,
     "metadata": {},
     "output_type": "execute_result"
    }
   ],
   "source": [
    "len([t for t in dataset_pairs_train if t[-1] == 0]),\\\n",
    "    len([t for t in dataset_pairs_train if t[-1] == 1]),\\\n",
    "    len([t for t in dataset_pairs_train if t[-1] == 2])"
   ]
  },
  {
   "cell_type": "code",
   "execution_count": 7,
   "metadata": {},
   "outputs": [
    {
     "data": {
      "text/plain": [
       "(984, 1789, 2843)"
      ]
     },
     "execution_count": 7,
     "metadata": {},
     "output_type": "execute_result"
    }
   ],
   "source": [
    "len([t for t in dataset_pairs_test if t[-1] == 0]),\\\n",
    "    len([t for t in dataset_pairs_test if t[-1] == 1]),\\\n",
    "    len([t for t in dataset_pairs_test if t[-1] == 2])"
   ]
  },
  {
   "cell_type": "code",
   "execution_count": null,
   "metadata": {},
   "outputs": [],
   "source": []
  },
  {
   "cell_type": "code",
   "execution_count": 8,
   "metadata": {},
   "outputs": [],
   "source": [
    "bert_path = \"bert-base-cased\""
   ]
  },
  {
   "cell_type": "code",
   "execution_count": 9,
   "metadata": {},
   "outputs": [
    {
     "name": "stderr",
     "output_type": "stream",
     "text": [
      "Some weights of the model checkpoint at bert-base-cased were not used when initializing BertModel: ['cls.predictions.bias', 'cls.predictions.transform.LayerNorm.bias', 'cls.seq_relationship.weight', 'cls.predictions.decoder.weight', 'cls.seq_relationship.bias', 'cls.predictions.transform.LayerNorm.weight', 'cls.predictions.transform.dense.weight', 'cls.predictions.transform.dense.bias']\n",
      "- This IS expected if you are initializing BertModel from the checkpoint of a model trained on another task or with another architecture (e.g. initializing a BertForSequenceClassification model from a BertForPreTraining model).\n",
      "- This IS NOT expected if you are initializing BertModel from the checkpoint of a model that you expect to be exactly identical (initializing a BertForSequenceClassification model from a BertForSequenceClassification model).\n"
     ]
    }
   ],
   "source": [
    "word_embedding_model = models.Transformer(bert_path, max_seq_length=170)\n",
    "pooling_model = models.Pooling(word_embedding_model.get_word_embedding_dimension(),\n",
    "                               pooling_mode_mean_tokens=True,\n",
    "                               pooling_mode_cls_token=False,\n",
    "                               pooling_mode_max_tokens=False)"
   ]
  },
  {
   "cell_type": "code",
   "execution_count": 10,
   "metadata": {},
   "outputs": [],
   "source": [
    "model = SentenceTransformer(modules=[word_embedding_model, pooling_model], device='cuda:1')"
   ]
  },
  {
   "cell_type": "code",
   "execution_count": 11,
   "metadata": {},
   "outputs": [],
   "source": [
    "train_samples = []\n",
    "for pair in dataset_pairs_train:\n",
    "    train_samples.append(InputExample(texts=[pair[0], pair[1]], label=pair[2]))"
   ]
  },
  {
   "cell_type": "code",
   "execution_count": 12,
   "metadata": {},
   "outputs": [
    {
     "data": {
      "text/plain": [
       "22544"
      ]
     },
     "execution_count": 12,
     "metadata": {},
     "output_type": "execute_result"
    }
   ],
   "source": [
    "len(train_samples)"
   ]
  },
  {
   "cell_type": "code",
   "execution_count": 13,
   "metadata": {},
   "outputs": [],
   "source": [
    "train_batch_size = 16\n",
    "train_dataset = SentencesDataset(train_samples, model=model)\n",
    "train_dataloader = DataLoader(train_dataset, shuffle=True, batch_size=train_batch_size)\n",
    "train_loss = losses.SoftmaxLoss(model=model,\n",
    "                                sentence_embedding_dimension=model.get_sentence_embedding_dimension(),\n",
    "                                num_labels=3)"
   ]
  },
  {
   "cell_type": "code",
   "execution_count": 14,
   "metadata": {},
   "outputs": [],
   "source": [
    "num_epochs = 5\n",
    "\n",
    "warmup_steps = math.ceil(len(train_dataset) * num_epochs / train_batch_size * 0.1) #10% of train data for warm-up"
   ]
  },
  {
   "cell_type": "code",
   "execution_count": 15,
   "metadata": {},
   "outputs": [
    {
     "name": "stderr",
     "output_type": "stream",
     "text": [
      "/home/alchernyavskiy/anaconda3/envs/sbert/lib/python3.6/site-packages/transformers/optimization.py:309: FutureWarning: This implementation of AdamW is deprecated and will be removed in a future version. Use the PyTorch implementation torch.optim.AdamW instead, or set `no_deprecation_warning=True` to disable this warning\n",
      "  FutureWarning,\n"
     ]
    },
    {
     "data": {
      "application/vnd.jupyter.widget-view+json": {
       "model_id": "eb9256881b5542e2b81cc6a5509c5b6f",
       "version_major": 2,
       "version_minor": 0
      },
      "text/plain": [
       "Epoch:   0%|          | 0/5 [00:00<?, ?it/s]"
      ]
     },
     "metadata": {},
     "output_type": "display_data"
    },
    {
     "data": {
      "application/vnd.jupyter.widget-view+json": {
       "model_id": "9f9f45adfe8d4a6cab818017e483d02c",
       "version_major": 2,
       "version_minor": 0
      },
      "text/plain": [
       "Iteration:   0%|          | 0/1409 [00:00<?, ?it/s]"
      ]
     },
     "metadata": {},
     "output_type": "display_data"
    },
    {
     "data": {
      "application/vnd.jupyter.widget-view+json": {
       "model_id": "9f85cd3e0c8c4a63a364912f64e3ea72",
       "version_major": 2,
       "version_minor": 0
      },
      "text/plain": [
       "Iteration:   0%|          | 0/1409 [00:00<?, ?it/s]"
      ]
     },
     "metadata": {},
     "output_type": "display_data"
    },
    {
     "data": {
      "application/vnd.jupyter.widget-view+json": {
       "model_id": "4366e65b058742959356182f927eef7d",
       "version_major": 2,
       "version_minor": 0
      },
      "text/plain": [
       "Iteration:   0%|          | 0/1409 [00:00<?, ?it/s]"
      ]
     },
     "metadata": {},
     "output_type": "display_data"
    },
    {
     "data": {
      "application/vnd.jupyter.widget-view+json": {
       "model_id": "3db669f8bc874fed8ee38e9936bd4e56",
       "version_major": 2,
       "version_minor": 0
      },
      "text/plain": [
       "Iteration:   0%|          | 0/1409 [00:00<?, ?it/s]"
      ]
     },
     "metadata": {},
     "output_type": "display_data"
    },
    {
     "data": {
      "application/vnd.jupyter.widget-view+json": {
       "model_id": "126de063e69d45148ed14e73e4e51667",
       "version_major": 2,
       "version_minor": 0
      },
      "text/plain": [
       "Iteration:   0%|          | 0/1409 [00:00<?, ?it/s]"
      ]
     },
     "metadata": {},
     "output_type": "display_data"
    }
   ],
   "source": [
    "# Train the model\n",
    "lr = 2e-5\n",
    "output_path=f'checkpoint/sentence_bert_disco_lr-{lr}_epochs-{num_epochs}_bs-{train_batch_size}'\n",
    "model.fit(train_objectives=[(train_dataloader, train_loss)],\n",
    "          evaluator=None,\n",
    "          epochs=num_epochs,\n",
    "          optimizer_params={'lr': lr},\n",
    "          evaluation_steps=50000,\n",
    "          warmup_steps=warmup_steps,\n",
    "          output_path=output_path\n",
    "          )"
   ]
  },
  {
   "cell_type": "code",
   "execution_count": 16,
   "metadata": {},
   "outputs": [],
   "source": [
    "torch.save(train_loss.classifier,\n",
    "           f'checkpoint/classifier_disco_lr-{lr}_epochs-{num_epochs}_bs-{train_batch_size}.pth')"
   ]
  },
  {
   "cell_type": "code",
   "execution_count": null,
   "metadata": {},
   "outputs": [],
   "source": []
  },
  {
   "cell_type": "markdown",
   "metadata": {},
   "source": [
    "## 3. Quality & Inference"
   ]
  },
  {
   "cell_type": "code",
   "execution_count": 17,
   "metadata": {},
   "outputs": [],
   "source": [
    "from sklearn.metrics import f1_score"
   ]
  },
  {
   "cell_type": "code",
   "execution_count": 18,
   "metadata": {},
   "outputs": [],
   "source": [
    "class Predictor:\n",
    "    def __init__(self, model, classifier, show_progress_bar, device='cuda:0'):\n",
    "        if show_progress_bar is None:\n",
    "            show_progress_bar = (logging.getLogger().getEffectiveLevel() ==\\\n",
    "                                 logging.INFO or logging.getLogger().getEffectiveLevel() == logging.DEBUG)\n",
    "        self.show_progress_bar = show_progress_bar\n",
    "\n",
    "        self.device = device\n",
    "        self.classifier = classifier.to(self.device)\n",
    "        self.model = model.to(self.device)\n",
    "        self.model.eval()\n",
    "    \n",
    "    def __call__(self, dataloader, return_probs=False):\n",
    "        labels = []\n",
    "\n",
    "        dataloader.collate_fn = self.model.smart_batching_collate\n",
    "\n",
    "        iterator = dataloader\n",
    "        if self.show_progress_bar:\n",
    "            iterator = tqdm(iterator, desc=\"Convert Evaluating\")\n",
    "\n",
    "        for step, batch in enumerate(iterator):\n",
    "            #features, label_ids = batch_to_device(batch, self.device)\n",
    "            features, label_ids = batch\n",
    "            with torch.no_grad():\n",
    "                rep_a, rep_b = [self.model(sent_features)['sentence_embedding'] for sent_features in features]\n",
    "            vectors_concat = []\n",
    "            vectors_concat.append(rep_a)\n",
    "            vectors_concat.append(rep_b)\n",
    "            vectors_concat.append(torch.abs(rep_a - rep_b))\n",
    "                \n",
    "            features = torch.cat(vectors_concat, 1)\n",
    "            output = self.classifier(features)\n",
    "            labels.extend(output.detach().to(\"cpu\").numpy())\n",
    "        \n",
    "        if return_probs:\n",
    "            return [softmax(el) for el in labels]\n",
    "        return [np.argmax(el) for el in labels]"
   ]
  },
  {
   "cell_type": "code",
   "execution_count": 19,
   "metadata": {},
   "outputs": [],
   "source": [
    "classifier = torch.load(f'checkpoint/classifier_disco_lr-{lr}_epochs-{num_epochs}_bs-{train_batch_size}.pth')"
   ]
  },
  {
   "cell_type": "code",
   "execution_count": 20,
   "metadata": {},
   "outputs": [],
   "source": [
    "predictor = Predictor(model, classifier, device='cuda:1', show_progress_bar=True)"
   ]
  },
  {
   "cell_type": "code",
   "execution_count": null,
   "metadata": {},
   "outputs": [],
   "source": []
  },
  {
   "cell_type": "code",
   "execution_count": 21,
   "metadata": {},
   "outputs": [],
   "source": [
    "dev_samples = []\n",
    "for pair in dataset_pairs_test:\n",
    "    dev_samples.append(InputExample(texts=[pair[0], pair[1]], label=0))"
   ]
  },
  {
   "cell_type": "code",
   "execution_count": 22,
   "metadata": {},
   "outputs": [],
   "source": [
    "dev_batch_size = 16\n",
    "dev_dataset = SentencesDataset(dev_samples, model=model)\n",
    "dev_dataloader = DataLoader(dev_dataset, shuffle=False, batch_size=dev_batch_size)\n",
    "dev_labels = [p[2] for p in dataset_pairs_test]"
   ]
  },
  {
   "cell_type": "code",
   "execution_count": 23,
   "metadata": {},
   "outputs": [
    {
     "name": "stderr",
     "output_type": "stream",
     "text": [
      "Convert Evaluating: 100%|██████████| 351/351 [00:58<00:00,  5.99it/s]\n"
     ]
    }
   ],
   "source": [
    "preds = predictor(dev_dataloader)"
   ]
  },
  {
   "cell_type": "code",
   "execution_count": 24,
   "metadata": {},
   "outputs": [
    {
     "data": {
      "text/plain": [
       "0.8107193732193733"
      ]
     },
     "execution_count": 24,
     "metadata": {},
     "output_type": "execute_result"
    }
   ],
   "source": [
    "(np.array(dev_labels) == np.array(preds)).mean()"
   ]
  },
  {
   "cell_type": "code",
   "execution_count": 25,
   "metadata": {},
   "outputs": [
    {
     "data": {
      "text/plain": [
       "0.7897096912422183"
      ]
     },
     "execution_count": 25,
     "metadata": {},
     "output_type": "execute_result"
    }
   ],
   "source": [
    "f1_score(dev_labels, preds, average='macro')"
   ]
  },
  {
   "cell_type": "code",
   "execution_count": null,
   "metadata": {},
   "outputs": [],
   "source": []
  },
  {
   "cell_type": "code",
   "execution_count": 26,
   "metadata": {},
   "outputs": [],
   "source": [
    "from sklearn.metrics import confusion_matrix\n",
    "import matplotlib.pyplot as plt\n",
    "%matplotlib inline\n",
    "\n",
    "\n",
    "def plot_confusion_matrix(y_true, y_pred, classes,\n",
    "                          normalize=False,\n",
    "                          title=None,\n",
    "                          cmap=plt.cm.Blues):\n",
    "    \"\"\"\n",
    "    This function prints and plots the confusion matrix.\n",
    "    Normalization can be applied by setting `normalize=True`.\n",
    "    \"\"\"\n",
    "    if not title:\n",
    "        title = 'Confusion matrix'\n",
    "\n",
    "    # Compute confusion matrix\n",
    "    cm = confusion_matrix(y_true, y_pred)\n",
    "\n",
    "    fig, ax = plt.subplots(figsize=(6,6))\n",
    "    im = ax.imshow(cm, interpolation='nearest', cmap=cmap)\n",
    "    ax.figure.colorbar(im, ax=ax)\n",
    "    # We want to show all ticks...\n",
    "    ax.set(xticks=np.arange(cm.shape[1]),\n",
    "           yticks=np.arange(cm.shape[0]),\n",
    "           # ... and label them with the respective list entries\n",
    "           xticklabels=classes, yticklabels=classes,\n",
    "           title=title,\n",
    "           ylabel='True label',\n",
    "           xlabel='Predicted label')\n",
    "\n",
    "    # Rotate the tick labels and set their alignment.\n",
    "    plt.setp(ax.get_xticklabels(), rotation=45, ha=\"right\",\n",
    "             rotation_mode=\"anchor\")\n",
    "\n",
    "    # Loop over data dimensions and create text annotations.\n",
    "    fmt = 'd'\n",
    "    thresh = cm.max() / 2.\n",
    "    for i in range(cm.shape[0]):\n",
    "        for j in range(cm.shape[1]):\n",
    "            ax.text(j, i, format(cm[i, j], fmt),\n",
    "                    ha=\"center\", va=\"center\",\n",
    "                    color=\"white\" if cm[i, j] > thresh else \"black\")\n",
    "    fig.tight_layout()\n",
    "    return ax"
   ]
  },
  {
   "cell_type": "code",
   "execution_count": 27,
   "metadata": {},
   "outputs": [
    {
     "data": {
      "text/plain": [
       "<AxesSubplot:title={'center':'Confusion matrix'}, xlabel='Predicted label', ylabel='True label'>"
      ]
     },
     "execution_count": 27,
     "metadata": {},
     "output_type": "execute_result"
    },
    {
     "data": {
      "image/png": "[encoded data removed]",
      "text/plain": [
       "<Figure size 432x432 with 2 Axes>"
      ]
     },
     "metadata": {
      "needs_background": "light"
     },
     "output_type": "display_data"
    }
   ],
   "source": [
    "np.set_printoptions(precision=2)\n",
    "\n",
    "# Plot non-normalized confusion matrix\n",
    "plot_confusion_matrix(np.array(dev_labels, dtype=int),\n",
    "                      np.array(preds, dtype=int),\n",
    "                      classes=['disagreement', 'agreement', 'other'],\n",
    "                      title='Confusion matrix')"
   ]
  },
  {
   "cell_type": "code",
   "execution_count": 48,
   "metadata": {},
   "outputs": [
    {
     "data": {
      "text/plain": [
       "<AxesSubplot:title={'center':'Confusion matrix'}, xlabel='Predicted label', ylabel='True label'>"
      ]
     },
     "execution_count": 48,
     "metadata": {},
     "output_type": "execute_result"
    },
    {
     "data": {
      "image/png": "[encoded data removed]",
      "text/plain": [
       "<Figure size 432x432 with 2 Axes>"
      ]
     },
     "metadata": {
      "needs_background": "light"
     },
     "output_type": "display_data"
    }
   ],
   "source": [
    "np.set_printoptions(precision=2)\n",
    "\n",
    "# Plot non-normalized confusion matrix\n",
    "plot_confusion_matrix(np.array(dev_labels, dtype=int),\n",
    "                      np.array(preds, dtype=int),\n",
    "                      classes=['disagreement', 'agreement', 'other'],\n",
    "                      title='Confusion matrix')"
   ]
  },
  {
   "cell_type": "code",
   "execution_count": null,
   "metadata": {},
   "outputs": [],
   "source": []
  }
 ],
 "metadata": {
  "kernelspec": {
   "display_name": "Python 3",
   "language": "python",
   "name": "python3"
  },
  "language_info": {
   "codemirror_mode": {
    "name": "ipython",
    "version": 3
   },
   "file_extension": ".py",
   "mimetype": "text/x-python",
   "name": "python",
   "nbconvert_exporter": "python",
   "pygments_lexer": "ipython3",
   "version": "3.8.5"
  }
 },
 "nbformat": 4,
 "nbformat_minor": 2
}
